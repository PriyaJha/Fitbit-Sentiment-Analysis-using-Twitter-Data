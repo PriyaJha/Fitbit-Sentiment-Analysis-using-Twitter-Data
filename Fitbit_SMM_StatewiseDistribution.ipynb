{
 "cells": [
  {
   "cell_type": "code",
   "execution_count": 1,
   "metadata": {
    "collapsed": false
   },
   "outputs": [
    {
     "data": {
      "image/png": "[encoded data removed]",
      "text/plain": [
       "<matplotlib.figure.Figure at 0x1089a7748>"
      ]
     },
     "metadata": {},
     "output_type": "display_data"
    }
   ],
   "source": [
    "import pickle\n",
    "import json\n",
    "import collections\n",
    "import matplotlib.pyplot as plt\n",
    "from collections import Counter\n",
    "\n",
    "input_data = pickle.load( open( \"Fitbit_SMM_TweetsData.pkl\", \"rb\" ) )\n",
    "count=0\n",
    "PositiveCount = 0\n",
    "NegativeCount = 0\n",
    "NeutralCount = 0\n",
    "state = []\n",
    "for record in input_data:\n",
    "    if 'place_full_name' in record.keys():\n",
    "        Place = record[\"place_full_name\"].split(\",\")\n",
    "        if len(Place) > 1:\n",
    "            if Place[1].strip() != 'USA':\n",
    "                state.append(Place[1].strip())\n",
    "    else:\n",
    "        if 'place' in record.keys():\n",
    "            Place = record[\"place\"][\"full_name\"].split(\",\")\n",
    "            if len(Place) > 1:\n",
    "                if Place[1].strip() != 'USA':\n",
    "                    state.append(Place[1].strip())\n",
    "\n",
    "\n",
    "data = Counter(state)\n",
    "data = {k: v for k, v in data.items() if v > 30}\n",
    "data = collections.OrderedDict(sorted(data.items(), key=lambda t: t[1], reverse=True))\n",
    "my_colors = ('#4286f4','#5893f4','#6ca1f7','#7baaf7','#90b6f4','#9dbdf2','#aec7f2','#c5d8f7','#d2def2','#eaf0f9','#eaf0f9')\n",
    "plt.title(\"#Fitbit - Top 10 US-States\")\n",
    "plt.xlabel(\"State\")\n",
    "plt.ylabel(\"Count\")\n",
    "plt.bar(range(len(data)), data.values(), align='center', color = my_colors)\n",
    "plt.xticks(range(len(data)), data.keys())\n",
    "\n",
    "plt.show()"
   ]
  },
  {
   "cell_type": "code",
   "execution_count": null,
   "metadata": {
    "collapsed": true
   },
   "outputs": [],
   "source": []
  }
 ],
 "metadata": {
  "kernelspec": {
   "display_name": "Python 3",
   "language": "python",
   "name": "python3"
  },
  "language_info": {
   "codemirror_mode": {
    "name": "ipython",
    "version": 3
   },
   "file_extension": ".py",
   "mimetype": "text/x-python",
   "name": "python",
   "nbconvert_exporter": "python",
   "pygments_lexer": "ipython3",
   "version": "3.6.0"
  }
 },
 "nbformat": 4,
 "nbformat_minor": 2
}
