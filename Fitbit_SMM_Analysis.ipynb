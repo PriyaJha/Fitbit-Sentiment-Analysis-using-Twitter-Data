{
 "cells": [
  {
   "cell_type": "code",
   "execution_count": 17,
   "metadata": {
    "collapsed": false
   },
   "outputs": [],
   "source": [
    "%matplotlib inline\n",
    "\n",
    "import pandas as pd\n",
    "import numpy as np\n",
    "import pickle\n",
    "from bs4 import BeautifulSoup\n",
    "import re\n",
    "\n",
    "import nltk\n",
    "from nltk.corpus import stopwords # Import the stop word list\n",
    "from nltk.tokenize import word_tokenize\n",
    "from nltk.stem import WordNetLemmatizer\n",
    "\n",
    "from sklearn import metrics\n",
    "from sklearn import preprocessing\n",
    "from sklearn.cross_validation import StratifiedKFold, train_test_split\n",
    "\n",
    "from sklearn.tree import DecisionTreeClassifier\n",
    "from sklearn.linear_model import LogisticRegression\n",
    "from sklearn.ensemble import RandomForestClassifier\n",
    "from sklearn.svm import SVC\n",
    "from sklearn.naive_bayes import GaussianNB\n",
    "from sklearn.naive_bayes import BernoulliNB\n",
    "from sklearn.feature_extraction.text import TfidfVectorizer\n",
    "\n",
    "import matplotlib.pyplot as plt"
   ]
  },
  {
   "cell_type": "code",
   "execution_count": 2,
   "metadata": {
    "collapsed": false
   },
   "outputs": [
    {
     "name": "stdout",
     "output_type": "stream",
     "text": [
      "Neutral count: 64\n",
      "Negative count: 78\n",
      "Positive count: 1223\n",
      "Positive-Negative 853-550\n",
      "Train-Test 1403-391\n"
     ]
    }
   ],
   "source": [
    "lemmatizer=WordNetLemmatizer()\n",
    "\n",
    "#Read pickle using pandas\n",
    "train=pd.read_pickle(\"Fitbit_SMM_TweetsData.pkl\")\n",
    "\n",
    "# Remove the Neutral records\n",
    "X=[]\n",
    "y=[]\n",
    "for record in train:\n",
    "    if record['Label']==\"Neutral\":\n",
    "       pass\n",
    "    else:\n",
    "        X.append(record['text'])\n",
    "        y.append(0 if record['Label'] == \"Negative\" else 1)  # Convert Positive/Negative to 1/0\n",
    "        \n",
    "# Split the records into training and test sets \n",
    "X_train, X_test, y_train, y_test = train_test_split(X, y, test_size=0.3, stratify=y,random_state=1)\n",
    "\n",
    "# Oversampling of the negative data in the training set to overcome the problem of data imbalance\n",
    "index=0\n",
    "n_cnt=0\n",
    "p_cnt=0\n",
    "X_train_temp=[]\n",
    "y_train_temp=[]\n",
    "for i in range(0, len(X_train)-2):\n",
    "    if y_train[i] == 0:\n",
    "        # Oversampling\n",
    "        X_train_temp.extend([X_train[i]]*10)\n",
    "        y_train_temp.extend([0,0,0,0,0,0,0,0,0,0])\n",
    "        n_cnt+=10        \n",
    "    else:\n",
    "        X_train_temp.append(X_train[i])\n",
    "        y_train_temp.append(1)\n",
    "        p_cnt+=1\n",
    "        index+=1\n",
    "        \n",
    "\n",
    "X_train = X_train_temp\n",
    "y_train = y_train_temp\n",
    "\n",
    "print(\"Neutral count: \" + str(len([i for i in train if i['Label'] == \"Neutral\"])))\n",
    "print(\"Negative count: \" + str(len([i for i in train if i['Label'] == \"Negative\"])))\n",
    "print(\"Positive count: \" + str(len([i for i in train if i['Label'] == \"Positive\"])))\n",
    "print (\"Positive-Negative \" + str(p_cnt) + \"-\" + str(n_cnt))\n",
    "print(\"Train-Test \" + str(len(X_train)) + \"-\" + str(len(X_test)))"
   ]
  },
  {
   "cell_type": "code",
   "execution_count": 3,
   "metadata": {
    "collapsed": true
   },
   "outputs": [],
   "source": [
    "def data_cleanup( raw_text ):\n",
    "    # Function to convert a raw tweet to a string of words\n",
    "    # The input is a single string (a tweet), and \n",
    "    # the output is a single string (a preprocessed tweet)\n",
    "    #\n",
    "    '''\n",
    "    # 1. Remove HTML\n",
    "    text = BeautifulSoup(raw_text, \"lxml\").get_text() \n",
    "    \n",
    "    #\n",
    "    # 2. Remove urls \n",
    "    words=text.split(' ')\n",
    "    words=[w for w in words if not w.startswith('http') ]\n",
    "    text=' '.join(words)\n",
    "    \n",
    "    #\n",
    "    # 3. Remove non-letters        \n",
    "    text = re.sub(\"[^0-9a-zA-Z]\", \" \", text) \n",
    "    text.replace(\"  \", \" \")\n",
    "    '''\n",
    "    #\n",
    "    # 4. Convert to lower case\n",
    "    text=raw_text\n",
    "    words = text.lower()  \n",
    "    \n",
    "    #\n",
    "    # 5. Tokenize\n",
    "    words=word_tokenize(words)\n",
    "    \n",
    "    #\n",
    "    # 6. Lemmatize\n",
    "    words = [lemmatizer.lemmatize(w) for w in words]\n",
    "    \n",
    "    #\n",
    "    # 7. In Python, searching a set is much faster than searching\n",
    "    #   a list, so convert the stop words to a set\n",
    "    stops = set(stopwords.words(\"english\"))\n",
    "    \n",
    "    # \n",
    "    # 8. Remove stop words\n",
    "    #words = [w for w in words if not w in stops]\n",
    "\n",
    "    #\n",
    "    # 9. Join the words back into one string separated by space, \n",
    "    # and return the result.\n",
    "    return( \" \".join( words )) "
   ]
  },
  {
   "cell_type": "code",
   "execution_count": 4,
   "metadata": {
    "collapsed": false
   },
   "outputs": [
    {
     "name": "stdout",
     "output_type": "stream",
     "text": [
      "Cleaning and parsing the training set ...\n",
      "\n",
      "Done\n"
     ]
    }
   ],
   "source": [
    "# Get the number of tweets based on the dataframe column size\n",
    "num_tweets = len(X_train)\n",
    "\n",
    "# Loop over each tweet; create an index i that goes from 0 to the length\n",
    "# of the tweet list \n",
    "print (\"Cleaning and parsing the training set ...\\n\")\n",
    "\n",
    "# Initialize an empty list to hold the clean reviews\n",
    "clean_train_tweets = []\n",
    "for i in range( 0, num_tweets ):\n",
    "    # Call our function for each one, and add the result to the list of\n",
    "    # clean tweets\n",
    "    clean_train_tweets.append(data_cleanup(X_train[i]))\n",
    "    \n",
    "print(\"Done\")"
   ]
  },
  {
   "cell_type": "code",
   "execution_count": 5,
   "metadata": {
    "collapsed": false
   },
   "outputs": [
    {
     "name": "stdout",
     "output_type": "stream",
     "text": [
      "Cleaning and parsing the test set ...\n",
      "\n",
      "Done\n"
     ]
    }
   ],
   "source": [
    "# Get the number of tweets based on the dataframe column size\n",
    "num_tweets_test = len(X_test)\n",
    "\n",
    "\n",
    "# Loop over each tweet; create an index i that goes from 0 to the length\n",
    "# of the tweet list \n",
    "print (\"Cleaning and parsing the test set ...\\n\")\n",
    "\n",
    "# Initialize an empty list to hold the clean reviews\n",
    "clean_test_tweets = []\n",
    "for i in range( 0, num_tweets_test ):\n",
    "    # Call our function for each one, and add the result to the list of\n",
    "    # clean tweets\n",
    "    clean_test_tweets.append( data_cleanup( X_test[i] ))\n",
    "\n",
    "print(\"Done\")"
   ]
  },
  {
   "cell_type": "code",
   "execution_count": 6,
   "metadata": {
    "collapsed": false
   },
   "outputs": [
    {
     "name": "stdout",
     "output_type": "stream",
     "text": [
      "creating the bag of words....\n",
      "\n",
      "Done\n"
     ]
    }
   ],
   "source": [
    "print(\"creating the bag of words....\\n\")\n",
    "from sklearn.feature_extraction.text import CountVectorizer\n",
    "\n",
    "#initialize the CountVectorizer (scikit learn's bag-of-words tool)\n",
    "#tried ngram_range=(1, 2),but performance went down for true negatives by a large margin\n",
    "'''\n",
    "#initialize the CountVectorizer (scikit learn's bag-of-words tool)\n",
    "vectorizer = CountVectorizer(analyzer=\"word\", tokenizer=None, preprocessor=None, \n",
    "                            stop_words=None, max_features=5000) '''\n",
    "vectorizer = TfidfVectorizer(min_df=5,\n",
    "                             max_df = 0.6,\n",
    "                             sublinear_tf=False,\n",
    "                             use_idf=True,max_features=5000)\n",
    "#fit_transform will fit the model to learn the vocabulary with the data and then transform into feature vector...\n",
    "train_data_features=vectorizer.fit_transform(clean_train_tweets)\n",
    "#transform the test data...\n",
    "test_data_features=vectorizer.transform(clean_test_tweets)\n",
    "\n",
    "#convert to numpy arrays\n",
    "train_data_features=train_data_features.toarray()\n",
    "test_data_features=test_data_features.toarray()\n",
    "\n",
    "print(\"Done\")"
   ]
  },
  {
   "cell_type": "markdown",
   "metadata": {},
   "source": [
    "<h3>LSA</h3>\n",
    "There are many features in this data resulting in high dimensionality. LSA is used to compress the features into a small but informative set of features before using the data in a machine learning model. Since this is a sparse vector we do not normalize the data."
   ]
  },
  {
   "cell_type": "code",
   "execution_count": 7,
   "metadata": {
    "collapsed": false,
    "scrolled": true
   },
   "outputs": [
    {
     "data": {
      "text/plain": [
       "<matplotlib.text.Text at 0x11a8c3be0>"
      ]
     },
     "execution_count": 7,
     "metadata": {},
     "output_type": "execute_result"
    },
    {
     "data": {
      "image/png": "[encoded data removed]",
      "text/plain": [
       "<matplotlib.figure.Figure at 0x11627c7f0>"
      ]
     },
     "metadata": {},
     "output_type": "display_data"
    }
   ],
   "source": [
    "#LSA on the datasets..\n",
    "from sklearn import decomposition\n",
    "from sklearn import datasets\n",
    "\n",
    "## LSA decomposition\n",
    "lsa = decomposition.TruncatedSVD(n_components=200) #Finds first 200 \n",
    "lsa.fit(train_data_features)\n",
    "plt.plot(lsa.explained_variance_ratio_)\n",
    "plt.ylabel('% of variance explained')\n",
    "#plot reaches asymptote at around 85, which is optimal number of components to use. \n"
   ]
  },
  {
   "cell_type": "code",
   "execution_count": 8,
   "metadata": {
    "collapsed": false
   },
   "outputs": [],
   "source": [
    "\n",
    "## LSA decomposition with optimal number of PCs\n",
    "#decompose train data\n",
    "lsa = decomposition.TruncatedSVD(n_components=85) \n",
    "lsa.fit(train_data_features)\n",
    "train_data_features = lsa.transform(train_data_features)\n",
    "\n",
    "#decompose test data\n",
    "test_data_features = lsa.transform(test_data_features)"
   ]
  },
  {
   "cell_type": "code",
   "execution_count": 9,
   "metadata": {
    "collapsed": false
   },
   "outputs": [],
   "source": [
    "#A quick look at the features...\n",
    "vocab=vectorizer.get_feature_names()\n",
    "# print(vocab)\n",
    "\n",
    "#Cross Validation\n",
    "le = preprocessing.LabelEncoder()\n",
    "Xtrain = train_data_features\n",
    "Xtest = test_data_features\n",
    "ytrain =le.fit_transform(y_train)\n",
    "ytest = le.transform(y_test)\n",
    "kfold = StratifiedKFold(y=ytrain,n_folds=5,random_state=1)"
   ]
  },
  {
   "cell_type": "code",
   "execution_count": 10,
   "metadata": {
    "collapsed": false
   },
   "outputs": [],
   "source": [
    "# Support Vector Machines\n",
    "svm = SVC(kernel='linear',C=.3)\n",
    "svm_scores = []\n",
    "for k,(train,test) in enumerate(kfold): \n",
    "    svm.fit(Xtrain[train],ytrain[train]) \n",
    "    score = svm.score(Xtrain[test],ytrain[test]) \n",
    "    svm_scores.append(score)\n",
    "svm.fit(Xtrain,ytrain)\n",
    "# Using the Support Vector Machines to make sentiment label predictions\n",
    "svm_result = svm.predict(test_data_features)"
   ]
  },
  {
   "cell_type": "code",
   "execution_count": 11,
   "metadata": {
    "collapsed": true
   },
   "outputs": [],
   "source": [
    "# Naive Bayes classifier\n",
    "nbb = BernoulliNB(alpha=1.0, binarize=0.0, class_prior=None, fit_prior=True)\n",
    "nbb_scores = []\n",
    "for k,(train,test) in enumerate(kfold): \n",
    "    nbb.fit(Xtrain[train],ytrain[train]) \n",
    "    score = nbb.score(Xtrain[test],ytrain[test]) \n",
    "    nbb_scores.append(score)\n",
    "nbb.fit(Xtrain,ytrain)\n",
    "# Using the Naive Bayes to make sentiment label predictions\n",
    "nbb_result = nbb.predict(test_data_features)"
   ]
  },
  {
   "cell_type": "code",
   "execution_count": 12,
   "metadata": {
    "collapsed": true
   },
   "outputs": [],
   "source": [
    "#Logistic Regression With Cross Validation\n",
    "lr = LogisticRegression(C=10) \n",
    "lr_scores = [] \n",
    "for k,(train,test) in enumerate(kfold): \n",
    "    lr.fit(Xtrain[train],ytrain[train]) \n",
    "    score = lr.score(Xtrain[test],ytrain[test]) \n",
    "    lr_scores.append(score)\n",
    "lr.fit(Xtrain,ytrain)    \n",
    "# Using the Logistic Regression classfication to make sentiment label predictions\n",
    "lr_result = lr.predict(test_data_features)"
   ]
  },
  {
   "cell_type": "code",
   "execution_count": 13,
   "metadata": {
    "collapsed": false
   },
   "outputs": [
    {
     "name": "stdout",
     "output_type": "stream",
     "text": [
      "************ Support Vector Machines ***********\n",
      "Support Vector Machines - Scores = [0.64768683274021355, 0.62989323843416367, 0.57295373665480431, 0.625, 0.58571428571428574]\n",
      "Accuracy = 0.869565217391\n",
      "Confusion Matrix = \n",
      "[[ 13  10]\n",
      " [ 41 327]]\n",
      "True Positive % match =  88.8586956522\n",
      "True Negative % match =  56.5217391304\n",
      "\n",
      "************ Naive Bayes B ***********\n",
      "Naive Bayes - Scores = [0.69039145907473309, 0.68683274021352314, 0.604982206405694, 0.61785714285714288, 0.69285714285714284]\n",
      "Accuracy = 0.823529411765\n",
      "Confusion Matrix = \n",
      "[[ 11  12]\n",
      " [ 57 311]]\n",
      "True Positive % match =  84.5108695652\n",
      "True Negative % match =  47.8260869565\n",
      "\n",
      "************ Logistic Regression ***********\n",
      "Logistic Regression - Scores = [0.62277580071174377, 0.64056939501779364, 0.58007117437722422, 0.59999999999999998, 0.59642857142857142]\n",
      "Accuracy = 0.915601023018\n",
      "Confusion Matrix = \n",
      "[[  8  15]\n",
      " [ 18 350]]\n",
      "True Positive % match =  95.1086956522\n",
      "True Negative % match =  34.7826086957\n",
      "\n"
     ]
    }
   ],
   "source": [
    "\n",
    "print(\"************ Support Vector Machines ***********\")\n",
    "print(\"Support Vector Machines - Scores = \" + str(svm_scores))\n",
    "print(\"Accuracy = \" + str(svm.score(test_data_features,ytest)))\n",
    "svm_cm = metrics.confusion_matrix(ytest, svm_result)\n",
    "print(\"Confusion Matrix = \")\n",
    "print(svm_cm)\n",
    "svm_tp = svm_cm[1][1]*100 / float(svm_cm[1][0] + svm_cm[1][1])\n",
    "svm_tn = svm_cm[0][0]*100 / float(svm_cm[0][0] + svm_cm[0][1])\n",
    "print(\"True Positive % match =  \" + str(svm_tp))\n",
    "print(\"True Negative % match =  \" + str(svm_tn))\n",
    "print(\"\")\n",
    "\n",
    "print(\"************ Naive Bayes B ***********\")\n",
    "print(\"Naive Bayes - Scores = \" + str(nbb_scores))\n",
    "print(\"Accuracy = \" + str(nbb.score(test_data_features,ytest)))\n",
    "nbb_cm = metrics.confusion_matrix(ytest, nbb_result)\n",
    "print(\"Confusion Matrix = \")\n",
    "print(nbb_cm)\n",
    "nbb_tp = nbb_cm[1][1]*100 / float(nbb_cm[1][0] + nbb_cm[1][1])\n",
    "nbb_tn = nbb_cm[0][0]*100 / float(nbb_cm[0][0] + nbb_cm[0][1])\n",
    "print(\"True Positive % match =  \" + str(nbb_tp))\n",
    "print(\"True Negative % match =  \" + str(nbb_tn))\n",
    "print(\"\")\n",
    "\n",
    "print(\"************ Logistic Regression ***********\")\n",
    "print(\"Logistic Regression - Scores = \" + str(lr_scores))\n",
    "print(\"Accuracy = \" + str(lr.score(test_data_features,ytest)))\n",
    "lr_cm = metrics.confusion_matrix(ytest, lr_result)\n",
    "print(\"Confusion Matrix = \")\n",
    "print(lr_cm)\n",
    "lr_tp = lr_cm[1][1]*100 / float(lr_cm[1][0] + lr_cm[1][1])\n",
    "lr_tn = lr_cm[0][0]*100 / float(lr_cm[0][0] + lr_cm[0][1])\n",
    "print(\"True Positive % match =  \" + str(lr_tp))\n",
    "print(\"True Negative % match =  \" + str(lr_tn))\n",
    "print(\"\")"
   ]
  },
  {
   "cell_type": "code",
   "execution_count": 14,
   "metadata": {
    "collapsed": false
   },
   "outputs": [
    {
     "data": {
      "image/png": "[encoded data removed]",
      "text/plain": [
       "<matplotlib.figure.Figure at 0x11e669780>"
      ]
     },
     "metadata": {},
     "output_type": "display_data"
    },
    {
     "data": {
      "image/png": "[encoded data removed]",
      "text/plain": [
       "<matplotlib.figure.Figure at 0x11e669198>"
      ]
     },
     "metadata": {},
     "output_type": "display_data"
    },
    {
     "data": {
      "image/png": "[encoded data removed]",
      "text/plain": [
       "<matplotlib.figure.Figure at 0x1115f3b70>"
      ]
     },
     "metadata": {},
     "output_type": "display_data"
    }
   ],
   "source": [
    "def plotConfusionMatrix(cm, algo):\n",
    "    fig = plt.figure()\n",
    "    ax = fig.add_subplot(111)\n",
    "    cax = ax.matshow(cm,cmap=plt.cm.Blues,alpha=.9)\n",
    "    plt.title('Confusion matrix of ' + algo)\n",
    "    fig.colorbar(cax)\n",
    "    for i in range(cm.shape[0]):\n",
    "        for j in range(cm.shape[1]):\n",
    "            ax.text(x=j,y=i,\n",
    "                   s=cm[i,j],\n",
    "                   va='center',\n",
    "                   ha='center')\n",
    "    plt.xlabel('Predicted')\n",
    "    plt.ylabel('True')    \n",
    "    plt.show()\n",
    "    \n",
    "plotConfusionMatrix(svm_cm, \"Support Vector Machine\")\n",
    "plotConfusionMatrix(nbb_cm, \"Naive Bayes B\")\n",
    "plotConfusionMatrix(lr_cm, \"Logistic Regression\")"
   ]
  },
  {
   "cell_type": "code",
   "execution_count": 15,
   "metadata": {
    "collapsed": false
   },
   "outputs": [
    {
     "data": {
      "image/png": "[encoded data removed]",
      "text/plain": [
       "<matplotlib.figure.Figure at 0x11a48e5f8>"
      ]
     },
     "metadata": {},
     "output_type": "display_data"
    }
   ],
   "source": [
    "# data to plot\n",
    "n_groups = 4\n",
    "accuracy = [svm.score(test_data_features,ytest)*100.00,nbb.score(test_data_features,ytest)*100.00,lr.score(test_data_features,ytest)*100.00,0.0]\n",
    "true_positive = (svm_tp,nbb_tp,lr_tp, 0.0)\n",
    "true_negatives = (svm_tn,nbb_tn,lr_tn, 0.0)\n",
    " \n",
    "# create plot\n",
    "fig, ax = plt.subplots(figsize=(10.8,6))\n",
    "index = np.arange(n_groups)\n",
    "bar_width = 0.25\n",
    "opacity = 0.8\n",
    " \n",
    "rects1 = plt.bar(index, accuracy, bar_width,\n",
    "                 alpha=opacity,\n",
    "                 color='b',\n",
    "                 label='Accuracy')\n",
    " \n",
    "rects2 = plt.bar(index + bar_width, true_positive, bar_width,\n",
    "                 alpha=opacity,\n",
    "                 color='g',\n",
    "                 label='True Positives')\n",
    "\n",
    "rects3 = plt.bar(index + bar_width + bar_width, true_negatives, bar_width,\n",
    "                 alpha=opacity,\n",
    "                 color='r',\n",
    "                 label='True Negatives')\n",
    " \n",
    "plt.ylabel('Percentage')\n",
    "plt.title('Performance per algorithm')\n",
    "plt.xticks(index + bar_width, ( 'Support Vector Machines', 'Naive Bayes B','Logistic Regression', ''))\n",
    "plt.legend()\n",
    " \n",
    "plt.tight_layout()\n",
    "plt.show()"
   ]
  },
  {
   "cell_type": "code",
   "execution_count": 16,
   "metadata": {
    "collapsed": false
   },
   "outputs": [
    {
     "data": {
      "image/png": "[encoded data removed]",
      "text/plain": [
       "<matplotlib.figure.Figure at 0x11e6b0940>"
      ]
     },
     "metadata": {},
     "output_type": "display_data"
    }
   ],
   "source": [
    "from sklearn.metrics import roc_curve, auc\n",
    "\n",
    "fpr_nbb, tpr_nbb, thresholds_nbb = roc_curve(ytest, nbb_result)\n",
    "roc_auc = auc(fpr_nbb, tpr_nbb)\n",
    "\n",
    "fpr_lr, tpr_lr, thresholds_lr = roc_curve(ytest, lr_result)\n",
    "roc_auc_lr = auc(fpr_lr, tpr_lr)\n",
    "\n",
    "fpr_svm, tpr_svm, thresholds_svm = roc_curve(ytest, svm_result)\n",
    "roc_auc_svm = auc(fpr_svm, tpr_svm)\n",
    "\n",
    "plt.title('Receiver Operating Characteristic')\n",
    "plt.plot(fpr_nbb, tpr_nbb, 'b',label='AUC_NBB = %0.2f'% roc_auc)\n",
    "plt.plot(fpr_lr, tpr_lr, 'c',label='AUC_LR = %0.2f'% roc_auc_lr)\n",
    "plt.plot(fpr_svm, tpr_svm, 'k',label='AUC_SVM = %0.2f'% roc_auc_svm)\n",
    "\n",
    "plt.legend(loc='lower right')\n",
    "plt.plot([0,1],[0,1],'r--')\n",
    "plt.xlim([-0.1,1.2])\n",
    "plt.ylim([-0.1,1.2])\n",
    "plt.ylabel('True Positive Rate')\n",
    "plt.xlabel('False Positive Rate')\n",
    "plt.show()\n"
   ]
  },
  {
   "cell_type": "code",
   "execution_count": null,
   "metadata": {
    "collapsed": false,
    "scrolled": true
   },
   "outputs": [],
   "source": []
  },
  {
   "cell_type": "code",
   "execution_count": null,
   "metadata": {
    "collapsed": true
   },
   "outputs": [],
   "source": []
  }
 ],
 "metadata": {
  "kernelspec": {
   "display_name": "Python 3",
   "language": "python",
   "name": "python3"
  },
  "language_info": {
   "codemirror_mode": {
    "name": "ipython",
    "version": 3
   },
   "file_extension": ".py",
   "mimetype": "text/x-python",
   "name": "python",
   "nbconvert_exporter": "python",
   "pygments_lexer": "ipython3",
   "version": "3.6.0"
  }
 },
 "nbformat": 4,
 "nbformat_minor": 2
}
