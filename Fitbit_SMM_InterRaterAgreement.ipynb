{
 "cells": [
  {
   "cell_type": "code",
   "execution_count": 3,
   "metadata": {
    "collapsed": false
   },
   "outputs": [
    {
     "name": "stdout",
     "output_type": "stream",
     "text": [
      "Total Records: 1365 \n",
      "Matched Records: 1252 \n",
      "Not Matched Records: 113\n",
      "\n",
      "Inter-Rater agreement is: 91.72161172161172 %\n"
     ]
    }
   ],
   "source": [
    "#Inter rater reliability...\n",
    "import pickle\n",
    "import json\n",
    "\n",
    "input_data_pri = pickle.load( open( \"AllTweetsData_Pri.pkl\", \"rb\" ) ) \n",
    "input_data_vin = pickle.load( open( \"AllTweets-Combined-Vineet.pkl\", \"rb\" ) ) \n",
    "countMatch=0\n",
    "countNotMatch=0\n",
    "countRec=0\n",
    "for recP in input_data_pri:\n",
    "    for recV in input_data_vin:\n",
    "        if recP[\"id\"]==recV[\"id\"]:\n",
    "            countRec+=1\n",
    "            if recP[\"Label\"]==recV[\"Label\"]:\n",
    "                countMatch+=1\n",
    "            else:\n",
    "                countNotMatch+=1\n",
    "print(\"Total Records:\",countRec,\"\\nMatched Records:\",countMatch,\"\\nNot Matched Records:\",countNotMatch)\n",
    "print(\"\\nInter-Rater agreement is:\",countMatch*100/countRec,\"%\")"
   ]
  },
  {
   "cell_type": "code",
   "execution_count": null,
   "metadata": {
    "collapsed": true
   },
   "outputs": [],
   "source": []
  }
 ],
 "metadata": {
  "anaconda-cloud": {},
  "kernelspec": {
   "display_name": "Python [Root]",
   "language": "python",
   "name": "Python [Root]"
  },
  "language_info": {
   "codemirror_mode": {
    "name": "ipython",
    "version": 3
   },
   "file_extension": ".py",
   "mimetype": "text/x-python",
   "name": "python",
   "nbconvert_exporter": "python",
   "pygments_lexer": "ipython3",
   "version": "3.5.2"
  }
 },
 "nbformat": 4,
 "nbformat_minor": 0
}
