{
 "cells": [
  {
   "cell_type": "code",
   "execution_count": 28,
   "metadata": {
    "collapsed": false
   },
   "outputs": [],
   "source": [
    "import gmplot\n",
    "import pickle as pkl\n",
    "\n",
    "file_data = {}\n",
    "geo_codes = []\n",
    "with open(\"AllTweetsData.pkl\", \"rb\") as f:\n",
    "        file_data = pkl.load(f)\n",
    "\n",
    "latitudes = []\n",
    "longitudes = []\n",
    "\n",
    "for record in file_data:\n",
    "    if record['geo']:\n",
    "        latitudes.append(record['geo']['coordinates'][0])\n",
    "        longitudes.append(record['geo']['coordinates'][1])\n",
    "        \n",
    "gmap = gmplot.GoogleMapPlotter(38.6160128, -95.4715904, 5)\n",
    "\n",
    "gmap.heatmap(latitudes, longitudes, radius=100,opacity=0.7)\n",
    "\n",
    "gmap.draw(\"mymap.html\")\n",
    "        "
   ]
  },
  {
   "cell_type": "code",
   "execution_count": null,
   "metadata": {
    "collapsed": true
   },
   "outputs": [],
   "source": [
    "    "
   ]
  }
 ],
 "metadata": {
  "kernelspec": {
   "display_name": "Python 3",
   "language": "python",
   "name": "python3"
  },
  "language_info": {
   "codemirror_mode": {
    "name": "ipython",
    "version": 3
   },
   "file_extension": ".py",
   "mimetype": "text/x-python",
   "name": "python",
   "nbconvert_exporter": "python",
   "pygments_lexer": "ipython3",
   "version": "3.6.0"
  }
 },
 "nbformat": 4,
 "nbformat_minor": 2
}
